{
 "cells": [
  {
   "cell_type": "code",
   "execution_count": null,
   "metadata": {},
   "outputs": [],
   "source": [
    "import pickle\n",
    "import matplotlib.pyplot as plt\n",
    "from tqdm.notebook import tqdm"
   ]
  },
  {
   "cell_type": "code",
   "execution_count": null,
   "metadata": {},
   "outputs": [],
   "source": [
    "from util import LossFunction\n",
    "from m_independent import * \n",
    "from m_dependent_d import *\n",
    "import m_dependent_b as mib \n",
    "from m_encoder import *\n",
    "from convex_network import * "
   ]
  },
  {
   "cell_type": "code",
   "execution_count": null,
   "metadata": {},
   "outputs": [],
   "source": [
    "# Load a pickle file\n",
    "with open('data/2024-10-13_PC1D_process10_data.pkl', 'rb') as f:\n",
    "    data = pickle.load(f)\n",
    "    \n",
    "N = 10 \n",
    "step = 50\n",
    "e = torch.tensor(data['strain'][:N,::step], dtype=torch.float32)\n",
    "e_dot = torch.tensor(data['strain_rate'][:N,::step], dtype=torch.float32)\n",
    "s = torch.tensor(data['stress'][:N,::step], dtype=torch.float32)\n",
    "\n",
    "E = torch.tensor(data['E'][:N], dtype=torch.float32)\n",
    "nu = torch.tensor(data['nu'][:N], dtype=torch.float32)\n",
    "\n",
    "loss_function = LossFunction() "
   ]
  },
  {
   "cell_type": "code",
   "execution_count": null,
   "metadata": {},
   "outputs": [],
   "source": [
    "ae_E = AutoEncoder(E.shape[1], 10)\n",
    "ae_E_optimizer = torch.optim.Adam(ae_E.parameters(), lr=1e-3)\n",
    "ae_E_loss_history = []\n",
    "\n",
    "num_epochs = 1000\n",
    "for epoch in tqdm(range(num_epochs)):\n",
    "    loss = train_step_ae(ae_E, ae_E_optimizer, E)\n",
    "    ae_E_loss_history.append(loss)\n",
    "    if (epoch+1) % 100 == 0:\n",
    "        tqdm.write(f'AE E Epoch [{epoch+1}/{num_epochs}], Loss: {loss:.4f}')"
   ]
  },
  {
   "cell_type": "code",
   "execution_count": null,
   "metadata": {},
   "outputs": [],
   "source": [
    "ae_nu = AutoEncoder(nu.shape[1], 10)\n",
    "ae_nu_optimizer = torch.optim.Adam(ae_nu.parameters(), lr=1e-3)\n",
    "ae_nu_loss_history = []\n",
    "num_epochs = 1000\n",
    "for epoch in tqdm(range(num_epochs)):\n",
    "    loss = train_step_ae(ae_nu, ae_nu_optimizer, nu)\n",
    "    ae_nu_loss_history.append(loss)\n",
    "    if (epoch+1) % 100 == 0:\n",
    "        print(f'AE Nu Epoch [{epoch+1}/{num_epochs}], Loss: {loss:.4f}')"
   ]
  }
 ],
 "metadata": {
  "kernelspec": {
   "display_name": "base",
   "language": "python",
   "name": "python3"
  },
  "language_info": {
   "name": "python",
   "version": "3.12.7"
  }
 },
 "nbformat": 4,
 "nbformat_minor": 2
}
